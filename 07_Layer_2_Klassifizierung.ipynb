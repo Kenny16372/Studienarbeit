{
 "cells": [
  {
   "cell_type": "code",
   "execution_count": 1,
   "metadata": {},
   "outputs": [],
   "source": [
    "import numpy as np"
   ]
  },
  {
   "cell_type": "markdown",
   "metadata": {},
   "source": [
    "# Layer 2 - Klassifizierung\n",
    "Dieses Notebook enthält die Layer der Klassifizierung: Flatten und Dense."
   ]
  },
  {
   "cell_type": "markdown",
   "metadata": {},
   "source": [
    "## Flatten\n",
    "Der Flatten-Layer wird genutzt, um von einer Feature Map zu einem Vektor zu kommen.\n",
    "### Input\n",
    "Der Input ist die letzte Feature Map des Feature Learnings mit den Dimensionen $b\\times h$.\n",
    "### Verarbeitung\n",
    "Die Feature Map als Matrix wird Zeile für Zeile durchgegangen und die Werte in einen langen Vektor untereinander geschieben. \n",
    "### Output\n",
    "Als Output hat dieser Layer einen eindimensionalen Vektor der Länge $b\\cdot h$.\n",
    "### Code\n",
    "Der folgende Code zeigt eine beispielhafte Feature Map und den aus dem Flatten-Layer resultierenden Vektor."
   ]
  },
  {
   "cell_type": "code",
   "execution_count": 6,
   "metadata": {},
   "outputs": [
    {
     "name": "stdout",
     "output_type": "stream",
     "text": [
      "Feature Map:\n",
      " [[1 2 3]\n",
      " [4 5 6]\n",
      " [7 8 9]]\n",
      "After Flatten:\n",
      " [1 2 3 4 5 6 7 8 9]\n"
     ]
    }
   ],
   "source": [
    "array = np.array([\n",
    "    [1, 2, 3],\n",
    "    [4, 5, 6],\n",
    "    [7, 8, 9]\n",
    "])\n",
    "print(\"Feature Map:\\n\", array)\n",
    "print(\"After Flatten:\\n\", array.flatten())"
   ]
  },
  {
   "cell_type": "markdown",
   "metadata": {},
   "source": [
    "## Dense\n",
    "Der Dense Layer wird nur kurz angesprochen, es wird kein Beispiel gegeben.<br>\n",
    "Dieser Layer entspricht exakt dem aus Neuronalen Netzen bekannten Layer. In CNNs wird jedoch nur eine begrenzte Anzahl dieser Layer verwendet (1-2 in simplen Anwendungsfällen).<br>\n",
    "Der Output des letzten Dense Layers ist ein Vektor mit den Wahrscheinlichkeiten für jede Klasse, dass sie im Bild enthalten ist."
   ]
  }
 ],
 "metadata": {
  "kernelspec": {
   "display_name": "Python 3",
   "language": "python",
   "name": "python3"
  },
  "language_info": {
   "codemirror_mode": {
    "name": "ipython",
    "version": 3
   },
   "file_extension": ".py",
   "mimetype": "text/x-python",
   "name": "python",
   "nbconvert_exporter": "python",
   "pygments_lexer": "ipython3",
   "version": "3.7.8"
  }
 },
 "nbformat": 4,
 "nbformat_minor": 4
}
