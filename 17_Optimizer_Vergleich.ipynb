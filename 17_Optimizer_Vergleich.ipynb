{
 "cells": [
  {
   "cell_type": "markdown",
   "metadata": {},
   "source": [
    "# Vergleich der Optimizer\n",
    "In diesem Notebook wird das gleiche CNN mit den Optimizern aus den letzten Notebooks trainiert und die Ergebnisse verglichen. Das CNN ist das gleiche, das schon bei der Anwendung von MNIST genutzt wurde."
   ]
  },
  {
   "cell_type": "code",
   "execution_count": 3,
   "metadata": {},
   "outputs": [
    {
     "name": "stdout",
     "output_type": "stream",
     "text": [
      "Train on 60000 samples, validate on 10000 samples\n",
      "WARNING:tensorflow:From C:\\ProgramData\\Anaconda3\\envs\\cnn\\lib\\site-packages\\tensorflow\\python\\keras\\optimizer_v2\\adagrad.py:105: calling Constant.__init__ (from tensorflow.python.ops.init_ops) with dtype is deprecated and will be removed in a future version.\n",
      "Instructions for updating:\n",
      "Call initializer instance with the dtype argument instead of passing it to the constructor\n",
      "Epoch 1/4\n",
      "60000/60000 [==============================] - 23s 389us/sample - loss: 1.1097 - acc: 0.8010 - val_loss: 0.6747 - val_acc: 0.8605\n",
      "Epoch 2/4\n",
      "60000/60000 [==============================] - 22s 359us/sample - loss: 0.5872 - acc: 0.8643 - val_loss: 0.4987 - val_acc: 0.8865\n",
      "Epoch 3/4\n",
      "60000/60000 [==============================] - 21s 350us/sample - loss: 0.4777 - acc: 0.8806 - val_loss: 0.4311 - val_acc: 0.8953\n",
      "Epoch 4/4\n",
      "60000/60000 [==============================] - 22s 361us/sample - loss: 0.4267 - acc: 0.8891 - val_loss: 0.3941 - val_acc: 0.9032\n",
      "Train on 60000 samples, validate on 10000 samples\n",
      "Epoch 1/4\n",
      "60000/60000 [==============================] - 23s 376us/sample - loss: 2.2866 - acc: 0.1734 - val_loss: 2.2699 - val_acc: 0.2091\n",
      "Epoch 2/4\n",
      "60000/60000 [==============================] - 21s 354us/sample - loss: 2.2541 - acc: 0.2254 - val_loss: 2.2367 - val_acc: 0.2692\n",
      "Epoch 3/4\n",
      "60000/60000 [==============================] - 17s 278us/sample - loss: 2.2207 - acc: 0.2910 - val_loss: 2.2023 - val_acc: 0.3410\n",
      "Epoch 4/4\n",
      "60000/60000 [==============================] - 10s 172us/sample - loss: 2.1856 - acc: 0.3676 - val_loss: 2.1658 - val_acc: 0.4279\n",
      "Train on 60000 samples, validate on 10000 samples\n",
      "Epoch 1/4\n",
      "60000/60000 [==============================] - 11s 182us/sample - loss: 0.3535 - acc: 0.8986 - val_loss: 0.2253 - val_acc: 0.9364\n",
      "Epoch 2/4\n",
      "60000/60000 [==============================] - 11s 187us/sample - loss: 0.1940 - acc: 0.9444 - val_loss: 0.1518 - val_acc: 0.9565\n",
      "Epoch 3/4\n",
      "60000/60000 [==============================] - 12s 192us/sample - loss: 0.1360 - acc: 0.9618 - val_loss: 0.1142 - val_acc: 0.9684\n",
      "Epoch 4/4\n",
      "60000/60000 [==============================] - 12s 195us/sample - loss: 0.1074 - acc: 0.9697 - val_loss: 0.0948 - val_acc: 0.9708\n",
      "Train on 60000 samples, validate on 10000 samples\n",
      "Epoch 1/4\n",
      "60000/60000 [==============================] - 12s 195us/sample - loss: 0.3405 - acc: 0.9046 - val_loss: 0.2036 - val_acc: 0.9427\n",
      "Epoch 2/4\n",
      "60000/60000 [==============================] - 12s 198us/sample - loss: 0.1741 - acc: 0.9495 - val_loss: 0.1295 - val_acc: 0.9633\n",
      "Epoch 3/4\n",
      "60000/60000 [==============================] - 12s 195us/sample - loss: 0.1185 - acc: 0.9659 - val_loss: 0.0945 - val_acc: 0.9709\n",
      "Epoch 4/4\n",
      "60000/60000 [==============================] - 12s 201us/sample - loss: 0.0898 - acc: 0.9742 - val_loss: 0.0744 - val_acc: 0.9767\n",
      "Train on 60000 samples, validate on 10000 samples\n",
      "Epoch 1/4\n",
      "60000/60000 [==============================] - 13s 212us/sample - loss: 0.5869 - acc: 0.8357 - val_loss: 0.3083 - val_acc: 0.9111\n",
      "Epoch 2/4\n",
      "60000/60000 [==============================] - 13s 210us/sample - loss: 0.3133 - acc: 0.9073 - val_loss: 0.2771 - val_acc: 0.9205\n",
      "Epoch 3/4\n",
      "60000/60000 [==============================] - 13s 214us/sample - loss: 0.2879 - acc: 0.9149 - val_loss: 0.2670 - val_acc: 0.9224\n",
      "Epoch 4/4\n",
      "60000/60000 [==============================] - 12s 197us/sample - loss: 0.2655 - acc: 0.9234 - val_loss: 0.2432 - val_acc: 0.9312\n"
     ]
    }
   ],
   "source": [
    "import numpy as np\n",
    "import warnings\n",
    "warnings.filterwarnings('ignore')\n",
    "from keras.datasets.mnist import load_data\n",
    "from tensorflow.keras.models import Sequential\n",
    "from tensorflow.keras.layers import Conv2D, MaxPooling2D, Dense, Flatten\n",
    "from tensorflow.keras.utils import to_categorical\n",
    "import matplotlib.pyplot as plt\n",
    "\n",
    "(x_train, y_train), (x_test, y_test) = load_data() # Load data\n",
    "\n",
    "def scaleBetweenMinus1And1(x):\n",
    "    mean = np.mean(x)\n",
    "    maxVal = np.max(x)\n",
    "    minVal = np.min(x)\n",
    "    return (x - mean)/(maxVal - minVal)\n",
    "\n",
    "x_train = scaleBetweenMinus1And1(x_train) # Prepare data\n",
    "x_test = scaleBetweenMinus1And1(x_test)\n",
    "\n",
    "x_train = np.expand_dims(x_train, axis=3)\n",
    "x_test = np.expand_dims(x_test, axis=3)\n",
    "\n",
    "filter_count = 8\n",
    "kernel_size = 3\n",
    "pooling_size = 2\n",
    "\n",
    "def createModel():\n",
    "    return Sequential([\n",
    "        Conv2D(filter_count, kernel_size, input_shape=(28, 28, 1), activation='relu'),\n",
    "        MaxPooling2D(pool_size=pooling_size),\n",
    "        Flatten(),\n",
    "        Dense(10, activation='softmax'),\n",
    "    ])\n",
    "\n",
    "modelAdagrad = createModel()\n",
    "modelAdadelta = createModel()\n",
    "modelRMSProp = createModel()\n",
    "modelAdam = createModel()\n",
    "modelSGD = createModel()\n",
    "\n",
    "modelAdagrad.compile(\n",
    "  'adagrad',\n",
    "  loss='categorical_crossentropy',\n",
    "  metrics=['accuracy'],\n",
    ")\n",
    "\n",
    "modelAdadelta.compile(\n",
    "  'adadelta',\n",
    "  loss='categorical_crossentropy',\n",
    "  metrics=['accuracy'],\n",
    ")\n",
    "\n",
    "modelRMSProp.compile(\n",
    "  'rmsprop',\n",
    "  loss='categorical_crossentropy',\n",
    "  metrics=['accuracy'],\n",
    ")\n",
    "\n",
    "modelAdam.compile(\n",
    "  'adam',\n",
    "  loss='categorical_crossentropy',\n",
    "  metrics=['accuracy'],\n",
    ")\n",
    "\n",
    "modelSGD.compile(\n",
    "  'sgd',\n",
    "  loss='categorical_crossentropy',\n",
    "  metrics=['accuracy'],\n",
    ")\n",
    "\n",
    "histAdagrad = modelAdagrad.fit(\n",
    "  x_train,\n",
    "  to_categorical(y_train),\n",
    "  epochs=4,\n",
    "  validation_data=(x_test, to_categorical(y_test)),\n",
    ")\n",
    "\n",
    "histAdadelta = modelAdadelta.fit(\n",
    "  x_train,\n",
    "  to_categorical(y_train),\n",
    "  epochs=4,\n",
    "  validation_data=(x_test, to_categorical(y_test)),\n",
    ")\n",
    "\n",
    "histRMSProp = modelRMSProp.fit(\n",
    "  x_train,\n",
    "  to_categorical(y_train),\n",
    "  epochs=4,\n",
    "  validation_data=(x_test, to_categorical(y_test)),\n",
    ")\n",
    "\n",
    "histAdam = modelAdam.fit(\n",
    "  x_train,\n",
    "  to_categorical(y_train),\n",
    "  epochs=4,\n",
    "  validation_data=(x_test, to_categorical(y_test)),\n",
    ")\n",
    "\n",
    "histSGD = modelSGD.fit(\n",
    "  x_train,\n",
    "  to_categorical(y_train),\n",
    "  epochs=4,\n",
    "  validation_data=(x_test, to_categorical(y_test)),\n",
    ")"
   ]
  },
  {
   "cell_type": "markdown",
   "metadata": {},
   "source": [
    "Im Folgenden wird ein Diagramm aus dem zeitlichen Verlauf der Accuracy der Modelle erstellt."
   ]
  },
  {
   "cell_type": "code",
   "execution_count": 4,
   "metadata": {},
   "outputs": [
    {
     "data": {
      "text/plain": [
       "<Figure size 432x288 with 0 Axes>"
      ]
     },
     "metadata": {},
     "output_type": "display_data"
    },
    {
     "data": {
      "image/png": "[encoded data removed]",
      "text/plain": [
       "<Figure size 432x288 with 1 Axes>"
      ]
     },
     "metadata": {
      "needs_background": "light"
     },
     "output_type": "display_data"
    }
   ],
   "source": [
    "plt.clf()\n",
    "fig,ax = plt.subplots()\n",
    "ax.plot(histAdagrad.history['acc'], label=\"Adagrad\")\n",
    "ax.plot(histAdadelta.history['acc'], label=\"Adadelta\")\n",
    "ax.plot(histRMSProp.history['acc'], label=\"RMSProp\")\n",
    "ax.plot(histAdam.history['acc'], label=\"Adam\")\n",
    "ax.plot(histSGD.history['acc'], label=\"SGD\")\n",
    "plt.legend(prop={'size': 12})\n",
    "plt.title(\"Accuracy bei MNIST\")\n",
    "plt.show()"
   ]
  },
  {
   "cell_type": "markdown",
   "metadata": {},
   "source": [
    "Aus dem Diagramm ist abzulesen, dass Adadelta sehr viel langsamer konvergiert als die anderen Optimizer. Adagrad und SGD schneiden schlechter ab als RMSProp und Adam, die beide fast das gleiche Verhalten zeigen. SGD hat ein leicht besseres Ergebnis als Adagrad."
   ]
  }
 ],
 "metadata": {
  "kernelspec": {
   "display_name": "Python 3",
   "language": "python",
   "name": "python3"
  },
  "language_info": {
   "codemirror_mode": {
    "name": "ipython",
    "version": 3
   },
   "file_extension": ".py",
   "mimetype": "text/x-python",
   "name": "python",
   "nbconvert_exporter": "python",
   "pygments_lexer": "ipython3",
   "version": "3.7.10"
  }
 },
 "nbformat": 4,
 "nbformat_minor": 4
}
