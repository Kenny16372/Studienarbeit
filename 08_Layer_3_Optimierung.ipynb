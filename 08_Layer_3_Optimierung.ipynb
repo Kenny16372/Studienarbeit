{
 "cells": [
  {
   "cell_type": "code",
   "execution_count": 1,
   "metadata": {},
   "outputs": [],
   "source": [
    "import numpy as np"
   ]
  },
  {
   "cell_type": "markdown",
   "metadata": {},
   "source": [
    "# Layer 3 - Optimierung\n",
    "Dieses Notebook enthält Optimierungslayer, die nicht zwingend für die Lauffähigkeit eines CNNs benötigt werden, doch die das Ergebnis stark beeinflussen können."
   ]
  },
  {
   "cell_type": "markdown",
   "metadata": {},
   "source": [
    "## Batch Normalization\n",
    "Der erste Layer ist die Batch Normalization.\n",
    "# ???? Hyperparameter oder hier????"
   ]
  },
  {
   "cell_type": "markdown",
   "metadata": {},
   "source": [
    "## Dropout\n",
    "Der Dropout Layer dient der Stabilisierung des Netzwerks. Er wird bis auf Ausnahmen nach einem Dense Layer eingesetzt.\n",
    "### Input\n",
    "Input ist der $n$-dimensionale Vektor, der aus dem vorhergehenden Dense Layer kommt.\n",
    "### Verarbeitung\n",
    "Das Ziel ist es, eine bestimmte Anzahl der Neuronen des vorhergehenden Layers auszuschalten. Das wird erreicht, indem ein Teil der Werte des Inputvektors auf $0$ gesetzt werden. Es gibt den **Parameter Dropout**, der die Wahrscheinlichkeit beschreibt, dass der Output eines Neurons auf $0$ gesetzt wird. Dieser bewegt sich im Bereich bis $50\\%$.<br>\n",
    "Außerdem werden die nicht betroffenen Werte des Vektors mit dem Wert $\\frac{1}{1-dropout}$ multipliziert, damit die Länge des Vektors nur minimal schwankt.\n",
    "### Output\n",
    "Der Output ist auch ein $n$-dimensionaler Vektor, dessen Werte sich jedoch vom Input unterscheiden."
   ]
  },
  {
   "cell_type": "code",
   "execution_count": 2,
   "metadata": {},
   "outputs": [
    {
     "name": "stdout",
     "output_type": "stream",
     "text": [
      "Vorher:  [0. 1. 2. 3. 4. 5. 6. 7. 8. 9.]\n",
      "Nachher:  [ 0.  2.  4.  6.  0.  0.  0. 14. 16. 18.]\n"
     ]
    }
   ],
   "source": [
    "def dropout(X, dropout_percent):\n",
    "    dropoutVector = np.random.binomial([np.ones(len(X))],1-dropout_percent)[0] * (1.0/(1-dropout_percent))\n",
    "    return np.multiply(X, dropoutVector)\n",
    "\n",
    "np.random.seed(42)\n",
    "before = np.arange(10).astype(np.float32)\n",
    "after = dropout(before, .5)\n",
    "print(\"Vorher: \", before)\n",
    "print(\"Nachher: \", after)"
   ]
  }
 ],
 "metadata": {
  "kernelspec": {
   "display_name": "Python 3",
   "language": "python",
   "name": "python3"
  },
  "language_info": {
   "codemirror_mode": {
    "name": "ipython",
    "version": 3
   },
   "file_extension": ".py",
   "mimetype": "text/x-python",
   "name": "python",
   "nbconvert_exporter": "python",
   "pygments_lexer": "ipython3",
   "version": "3.7.8"
  }
 },
 "nbformat": 4,
 "nbformat_minor": 4
}
