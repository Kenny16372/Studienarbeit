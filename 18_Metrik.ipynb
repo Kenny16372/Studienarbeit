{
 "cells": [
  {
   "cell_type": "markdown",
   "metadata": {},
   "source": [
    "# Metrik\n",
    "Es gibt mehrere Möglichkeiten, die Performance eines Neuronalen Netzwerks zu messen. Hier wird die Genauigkeit (accuracy) erläutert und von der Präzision (precision) abgegrenzt. Zur Veranschaulichung dient folgende Wahrheitsmatrix (horizontal sind die aktuellen Werte, vertikal die gemessenen; Beispiel: Es wurden $2$ Werte als Positiv gemessen, obwohl sie Falsch waren).\n",
    "<table>\n",
    "    <tr>\n",
    "        <td></td>\n",
    "        <td>Wahr</td>\n",
    "        <td>Falsch</td>\n",
    "        <td>Gesamt</td>\n",
    "    </tr>\n",
    "    <tr>\n",
    "        <td>Positiv</td>\n",
    "        <td>4</td>\n",
    "        <td>2</td>\n",
    "        <td>6</td>\n",
    "    </tr>\n",
    "    <tr>\n",
    "        <td>Negativ</td>\n",
    "        <td>1</td>\n",
    "        <td>3</td>\n",
    "        <td>4</td>\n",
    "    </tr>\n",
    "    <tr>\n",
    "        <td>Gesamt</td>\n",
    "        <td>5</td>\n",
    "        <td>5</td>\n",
    "        <td>10</td>\n",
    "    </tr>\n",
    "</table>\n",
    "In diesem Notebook wird nur zwischen $2$ Klassen unterschieden, aber die vorgestellten Formeln sind auch auf mehrere Klassen erweiterbar."
   ]
  },
  {
   "cell_type": "markdown",
   "metadata": {},
   "source": [
    "## Accuracy\n",
    "Die Accuracy wird als Quotient von richtig gemessenen Werten durch alle gemessenen Werte gebildet.<br>\n",
    "Zuerst eine Erklärung der Notation: Die $4$ Felder der Tabelle werden als WP, FP, WN und FN bezeichnet. Der erste Wert steht dabei für den korrekten Wert und der zweite für das gemessene Ergebnis.<br>\n",
    "Die Formel für die Accuracy lautet: $$acc=\\frac{WP+FN}{WP+FP+WN+FN}$$\n",
    "Im Beispiel oben gibt das einen Wert von $\\frac{4+3}{4+2+1+3}=\\frac{7}{10}=0.7$"
   ]
  },
  {
   "cell_type": "markdown",
   "metadata": {},
   "source": [
    "## Precision\n",
    "Die Precision ist der Anteil der als wahr klassifizierten Ergebnisse an allen Positiven. Hierfür lautet die Formel: $$prec=\\frac{WP}{WP+FP}$$\n",
    "Auf das Beispiel angewandt ergibt sich als Precision $\\frac{4}{4+2}=\\frac{4}{6}=0.66$"
   ]
  },
  {
   "cell_type": "markdown",
   "metadata": {},
   "source": [
    "## Abgrenzung\n",
    "Es gibt nicht eine Metrik, die der anderen überlegen ist. Die jeweils beste Metrik ist vom Problem abhängig. Die Precision ist nützlich in Fällen, in denen ein falsches Ergebnis, das positiv gemessen wird, eine große Auswirkung hat. Ein Beispiel ist die Spam-Detektion. Es sollten möglichst keine wichtigen E-Mails versehentlich in den Spam-Ordner verschoben werden.<br>\n",
    "Die Accuracy macht Sinn, wenn das Modell den Wert möglichst genau vorhersagen soll, und es keine Unterscheidung zwischen inkorrekt vorhergesagten Werten gibt. Ein Beispiel ist die Bilderkennung, in der nur wichtig ist, dass ein Bild der korrekten Klasse zugordnet wird. Es ist oft egal, welcher Klasse es zugeordnet ist, wenn es inkorrekt klassifiziert wurde.<br>\n",
    "Folgendes Bild illustriert die Accuracy und die Precision.\n",
    "<div style=\"width:40%;margin:auto\">\n",
    "<img src=\"assets/accuracy_precision.png\" alt=\"Unterscheidung von Accuracy und Precision\"/>\n",
    "<small style=\"text-align:right;display:block\"><a href=\"https://chemistrygod.com/accuracy-and-precision-in-chemistry\">Quelle</a></small>\n",
    "<div style=\"text-align:center;color:RGB(117,117,117)\">Accuracy und Precision am Beispiel von Zielscheiben</div>\n",
    "</div>"
   ]
  },
  {
   "cell_type": "markdown",
   "metadata": {},
   "source": [
    "## Unterschied zwischen Accuracy und Loss\n",
    "Es wird oft angenommen, dass die Accuracy sich mit der Formel $accuracy=1-loss$ berechnet. Das ist jedoch nicht korrekt.\n",
    "### 1. Berechnung\n",
    "Die Accuracy bestimmt sich, wie oben geschrieben, als Anteil der korrekt klassifizierten Bilder. Je nach <br>\n",
    "Der Loss hingegen wird über folgende Formel berechnet.$$Loss=-\\sum_i{y_i\\cdot \\log{\\hat{y}_i}}$$\n",
    "$y_i$ ist die one-hot-encodierte Klasse des Bildes, also $1$, wenn es die $i$-te Klasse ist, sonst $0$. $\\hat{y}$ ist der Outputvektor des CNNs. Es fließt also immer nur $\\hat{y}_i$ in die Berechnung des Losses ein. Der Loss ist $0$ für ein Bild, wenn der Outputvektor des Netzwerks gleich der Klasse des Bildes im One-Hot-Encoding ist.\n",
    "### 2. Bedeutung\n",
    "Anhand der Accuracy kann die Performance des Netzwerks abgeschätzt werden.<br>\n",
    "Der Loss wird für die Backpropagation genommen, weil er das Ergebnis des CNNs genauer betrachtet, nämlich als Zahl anstelle dessen, ob die richtige Klasse getroffen wurde oder nicht.<br>\n",
    "Anders gesagt, bei der Accuracy wird geschaut, welcher Index des Outputs entweder maximal oder über einem Schwellenwert ist. Währenddessen betrachtet der Loss den Wert selbst."
   ]
  }
 ],
 "metadata": {
  "kernelspec": {
   "display_name": "Python 3",
   "language": "python",
   "name": "python3"
  },
  "language_info": {
   "codemirror_mode": {
    "name": "ipython",
    "version": 3
   },
   "file_extension": ".py",
   "mimetype": "text/x-python",
   "name": "python",
   "nbconvert_exporter": "python",
   "pygments_lexer": "ipython3",
   "version": "3.7.10"
  }
 },
 "nbformat": 4,
 "nbformat_minor": 4
}
