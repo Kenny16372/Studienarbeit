{
 "cells": [
  {
   "cell_type": "markdown",
   "metadata": {},
   "source": [
    "# Normalisierung von Bildern\n",
    "Dieses Jupyter Notebook befasst sich mit der Normalisierung von Bildern. Es werden die Gründe für verschiedene Möglichkeiten aufgezählt und diese anhand von Codebeispielen erläutert."
   ]
  },
  {
   "cell_type": "markdown",
   "metadata": {},
   "source": [
    "### Code - Imports\n",
    "Im ersten Schritt werden hilfreiche Bibliotheken eingebunden. Dazu zählt **NumPy** für effiziente Matrizenberechnungen, der <a>MNIST</a>-Datensatz mit Beispielbildern aus **Keras** und **Matplotlib** zum Anzeigen der Bilder"
   ]
  },
  {
   "cell_type": "code",
   "execution_count": 3,
   "metadata": {
    "scrolled": true
   },
   "outputs": [
    {
     "name": "stderr",
     "output_type": "stream",
     "text": [
      "Using TensorFlow backend.\n",
      "C:\\ProgramData\\Anaconda3\\envs\\cnn\\lib\\site-packages\\tensorflow\\python\\framework\\dtypes.py:516: FutureWarning: Passing (type, 1) or '1type' as a synonym of type is deprecated; in a future version of numpy, it will be understood as (type, (1,)) / '(1,)type'.\n",
      "  _np_qint8 = np.dtype([(\"qint8\", np.int8, 1)])\n",
      "C:\\ProgramData\\Anaconda3\\envs\\cnn\\lib\\site-packages\\tensorflow\\python\\framework\\dtypes.py:517: FutureWarning: Passing (type, 1) or '1type' as a synonym of type is deprecated; in a future version of numpy, it will be understood as (type, (1,)) / '(1,)type'.\n",
      "  _np_quint8 = np.dtype([(\"quint8\", np.uint8, 1)])\n",
      "C:\\ProgramData\\Anaconda3\\envs\\cnn\\lib\\site-packages\\tensorflow\\python\\framework\\dtypes.py:518: FutureWarning: Passing (type, 1) or '1type' as a synonym of type is deprecated; in a future version of numpy, it will be understood as (type, (1,)) / '(1,)type'.\n",
      "  _np_qint16 = np.dtype([(\"qint16\", np.int16, 1)])\n",
      "C:\\ProgramData\\Anaconda3\\envs\\cnn\\lib\\site-packages\\tensorflow\\python\\framework\\dtypes.py:519: FutureWarning: Passing (type, 1) or '1type' as a synonym of type is deprecated; in a future version of numpy, it will be understood as (type, (1,)) / '(1,)type'.\n",
      "  _np_quint16 = np.dtype([(\"quint16\", np.uint16, 1)])\n",
      "C:\\ProgramData\\Anaconda3\\envs\\cnn\\lib\\site-packages\\tensorflow\\python\\framework\\dtypes.py:520: FutureWarning: Passing (type, 1) or '1type' as a synonym of type is deprecated; in a future version of numpy, it will be understood as (type, (1,)) / '(1,)type'.\n",
      "  _np_qint32 = np.dtype([(\"qint32\", np.int32, 1)])\n",
      "C:\\ProgramData\\Anaconda3\\envs\\cnn\\lib\\site-packages\\tensorflow\\python\\framework\\dtypes.py:525: FutureWarning: Passing (type, 1) or '1type' as a synonym of type is deprecated; in a future version of numpy, it will be understood as (type, (1,)) / '(1,)type'.\n",
      "  np_resource = np.dtype([(\"resource\", np.ubyte, 1)])\n",
      "C:\\ProgramData\\Anaconda3\\envs\\cnn\\lib\\site-packages\\tensorboard\\compat\\tensorflow_stub\\dtypes.py:541: FutureWarning: Passing (type, 1) or '1type' as a synonym of type is deprecated; in a future version of numpy, it will be understood as (type, (1,)) / '(1,)type'.\n",
      "  _np_qint8 = np.dtype([(\"qint8\", np.int8, 1)])\n",
      "C:\\ProgramData\\Anaconda3\\envs\\cnn\\lib\\site-packages\\tensorboard\\compat\\tensorflow_stub\\dtypes.py:542: FutureWarning: Passing (type, 1) or '1type' as a synonym of type is deprecated; in a future version of numpy, it will be understood as (type, (1,)) / '(1,)type'.\n",
      "  _np_quint8 = np.dtype([(\"quint8\", np.uint8, 1)])\n",
      "C:\\ProgramData\\Anaconda3\\envs\\cnn\\lib\\site-packages\\tensorboard\\compat\\tensorflow_stub\\dtypes.py:543: FutureWarning: Passing (type, 1) or '1type' as a synonym of type is deprecated; in a future version of numpy, it will be understood as (type, (1,)) / '(1,)type'.\n",
      "  _np_qint16 = np.dtype([(\"qint16\", np.int16, 1)])\n",
      "C:\\ProgramData\\Anaconda3\\envs\\cnn\\lib\\site-packages\\tensorboard\\compat\\tensorflow_stub\\dtypes.py:544: FutureWarning: Passing (type, 1) or '1type' as a synonym of type is deprecated; in a future version of numpy, it will be understood as (type, (1,)) / '(1,)type'.\n",
      "  _np_quint16 = np.dtype([(\"quint16\", np.uint16, 1)])\n",
      "C:\\ProgramData\\Anaconda3\\envs\\cnn\\lib\\site-packages\\tensorboard\\compat\\tensorflow_stub\\dtypes.py:545: FutureWarning: Passing (type, 1) or '1type' as a synonym of type is deprecated; in a future version of numpy, it will be understood as (type, (1,)) / '(1,)type'.\n",
      "  _np_qint32 = np.dtype([(\"qint32\", np.int32, 1)])\n",
      "C:\\ProgramData\\Anaconda3\\envs\\cnn\\lib\\site-packages\\tensorboard\\compat\\tensorflow_stub\\dtypes.py:550: FutureWarning: Passing (type, 1) or '1type' as a synonym of type is deprecated; in a future version of numpy, it will be understood as (type, (1,)) / '(1,)type'.\n",
      "  np_resource = np.dtype([(\"resource\", np.ubyte, 1)])\n"
     ]
    }
   ],
   "source": [
    "import numpy as np\n",
    "import matplotlib.pyplot as plt\n",
    "from keras.datasets.mnist import load_data\n",
    "%matplotlib inline"
   ]
  },
  {
   "cell_type": "markdown",
   "metadata": {},
   "source": [
    "### Code - Laden des MNIST-Datensatzes\n",
    "Von Keras wird der MNIST-Datensatz heruntergeladen. Dieser kommt in der Form eines Trainings- und eines Testdatensatzes, die jeweils aus zwei Arrays bestehen: die Bilder mit den zugehörigen Klassen (Zahlen).<br>\n",
    "Dann wird ein Beispielbild angezeigt, um das Format der Bilder zu veranschaulichen."
   ]
  },
  {
   "cell_type": "code",
   "execution_count": 4,
   "metadata": {},
   "outputs": [
    {
     "data": {
      "image/png": "[encoded data removed]",
      "text/plain": [
       "<Figure size 432x288 with 2 Axes>"
      ]
     },
     "metadata": {
      "needs_background": "light"
     },
     "output_type": "display_data"
    }
   ],
   "source": [
    "(x_train, y_train), (x_test, y_test) = load_data()\n",
    "idx = 0\n",
    "im = x_train[idx]\n",
    "plt.clf()\n",
    "plt.imshow(im, cmap=\"gray\")\n",
    "plt.colorbar()\n",
    "plt.title(\"Klasse: \" + str(y_train[idx]))\n",
    "plt.show()"
   ]
  },
  {
   "cell_type": "markdown",
   "metadata": {},
   "source": [
    "### Code - Hilfsfunktion zum Anzeigen zweier Bilder nebeneinander\n",
    "Die Funktion erhält das Original und das normalisierte Bild und zeigt beide nebeneinander an. Die Größe der Gesamt-Abbildung ist $10\\times 3$ Zoll."
   ]
  },
  {
   "cell_type": "code",
   "execution_count": 1,
   "metadata": {},
   "outputs": [],
   "source": [
    "def showImages(orig, norm):\n",
    "    plt.clf()\n",
    "    fig, ax = plt.subplots(1,2,figsize=(10,3))\n",
    "    original = ax[0].imshow(orig, cmap=\"gray\")\n",
    "    ax[0].set_title(\"Original\")\n",
    "    fig.colorbar(original, ax=ax[0])\n",
    "    \n",
    "    normImage = ax[1].imshow(norm, cmap=\"gray\")\n",
    "    fig.colorbar(normImage, ax=ax[1])\n",
    "    ax[1].set_title(\"Neu\")\n",
    "    plt.show()"
   ]
  },
  {
   "cell_type": "markdown",
   "metadata": {},
   "source": [
    "## Skalierung der Bilder\n",
    "### Grund\n",
    "<div style=\"width:70%;margin:auto\">\n",
    "<img src=\"assets/CNN.jpeg\" alt=\"Aufbau eines CNNs\"/>\n",
    "<small style=\"text-align:right;display:block\"><a href=\"https://towardsdatascience.com/a-comprehensive-guide-to-convolutional-neural-networks-the-eli5-way-3bd2b1164a53\">Quelle</a></small>\n",
    "    <div style=\"text-align:center;color:RGB(117,117,117)\">Aufbau eines Convolutional Neural Networks</div>\n",
    "</div>\n",
    "Alle Bilder eines Datensatzes müssen das gleiche Format haben. Das kann man aus der Abbildung oben entnehmen. Da am Ende der Konvolution ein vollständig verbundenes neuronales Netzwerk steht, welches eine fixe Anzahl an Knoten besitzt, müssen die als Input verwendeten Bilder ebenfalls eine fixe, durch das Gesamt-Netzwerk bestimmte Größe besitzen. Zwar sorgen die Konvolutions-Schichten dafür, dass die Pixelanzahl abnimmt, dieser Faktor ist aber konstant, d. h. es gibt keine Toleranz bei den Dimensionen der Bilder."
   ]
  },
  {
   "cell_type": "markdown",
   "metadata": {},
   "source": [
    "### Code - Skalieren von Bildern\n",
    "Die Funktion unten nimmt die neue Breite und Höhe des Bildes als Parameter und gibt das oben beim Laden des Datensatzes angezeigte Bild auf die neuen Dimensionen skaliert zurück.<br>\n",
    "Hierfür wird zuerst ein NumPy-Array mit den neuen Dimensionen erstellt und dann für jeden Pixel in diesem Bild der Wert in dem Originalbild berechnet. Die Berechnungsfunktion ist simpel gehalten, wenn eine Kommazahl bei dem Lookup auf die Position des Pixels im Originalbild herauskommt, wird diese abgerundet auf den nächstniedrigeren Pixel.<br>\n",
    "Die Funktion wird auf das Beispielbild von oben angewendet und das Original wird zusammen mit dem auf die Größe $100\\times 300$ skalierten Bild ausgegeben."
   ]
  },
  {
   "cell_type": "code",
   "execution_count": 12,
   "metadata": {},
   "outputs": [
    {
     "data": {
      "text/plain": [
       "<Figure size 432x288 with 0 Axes>"
      ]
     },
     "metadata": {},
     "output_type": "display_data"
    },
    {
     "data": {
      "image/png": "[encoded data removed]",
      "text/plain": [
       "<Figure size 720x216 with 4 Axes>"
      ]
     },
     "metadata": {
      "needs_background": "light"
     },
     "output_type": "display_data"
    }
   ],
   "source": [
    "def scaleDimensions(xNew, yNew):\n",
    "    new = np.zeros((yNew, xNew))\n",
    "    factorX = float(xNew) / float(im.shape[0])\n",
    "    factorY = float(yNew) / float(im.shape[1])\n",
    "    for x in range(xNew):\n",
    "        for y in range(yNew):\n",
    "            new[y][x] = im[int(y/factorY)][int(x/factorX)]\n",
    "    return new\n",
    "\n",
    "new = scaleDimensions(100, 300)\n",
    "showImages(im, new)"
   ]
  },
  {
   "cell_type": "markdown",
   "metadata": {},
   "source": [
    "## Skalierung der Pixelwerte\n",
    "### Grund\n",
    "Bei dieser Form der Skalierung werden alle Pixelwerte auf den Bereich $[0;1]$ (bzw. $[-1;1]$) eingeschränkt. Das bedeutet einerseits, dass das CNN Bilder mit beliebig vielen Abstufungen einer Farbe verarbeiten kann. Mit Farbabstufungen ist hier die Größe eines Farbkanals gemeint, auch Bittiefe genannt (Alltagskameras speichern 8 Bit pro Farbe, d. h. Werte von $0$ bis $255$, während wissenschaftliche Kameras eine Bittiefe von 16 Bit haben, also $65536$ verschiedene Nuancen pro Farbkanal unterscheiden). Neuronale Netze und deren Komponenten sind jedoch oft dafür optimiert, dass sie mit Parametern in dem Größenbereich $1$ schneller zu einer Lösung konvergieren. Die Skalierung sorgt also für eine kürzere Trainingszeit des Netzwerks.\n",
    "### Das Verfahren\n",
    "#### Skalierung auf $[0;1]$\n",
    "Die Skalierung auf $[0;1]$ erfolgt trivial durch die Division jedes Pixels durch den maximalen Pixelwert. Die Formel dafür lautet $$x_{norm}=\\frac{x}{2^b-1}$$ mit $b$ als Bittiefe. Anders ausgedrückt wird z. B. bei 8 Bit pro Farbkanal (Division durch $2^8-1=255$) der Pixel mit dem Wert RGB(0, 128, 255) zu dem Wert RGB(0, 0.5, 1).<br>"
   ]
  },
  {
   "cell_type": "markdown",
   "metadata": {},
   "source": [
    "### Code - Skalierung auf das Intervall $[0;1]$\n",
    "Die folgende Funktion nimmt ein Bild und die Bittiefe des Bilds und skaliert die Pixelwerte des Bilds auf das Intervall $[0;1]$.<br>\n",
    "Dann wird wie oben auch das Originalbild und das normalisierte Bild angezeigt."
   ]
  },
  {
   "cell_type": "code",
   "execution_count": 10,
   "metadata": {},
   "outputs": [
    {
     "data": {
      "text/plain": [
       "<Figure size 432x288 with 0 Axes>"
      ]
     },
     "metadata": {},
     "output_type": "display_data"
    },
    {
     "data": {
      "image/png": "[encoded data removed]",
      "text/plain": [
       "<Figure size 720x216 with 4 Axes>"
      ]
     },
     "metadata": {
      "needs_background": "light"
     },
     "output_type": "display_data"
    }
   ],
   "source": [
    "def scaleBetween0And1(x, b):\n",
    "    return x / (2**b - 1)\n",
    "\n",
    "showImages(im, scaleBetween0And1(im, 8))"
   ]
  },
  {
   "cell_type": "markdown",
   "metadata": {},
   "source": [
    "#### Skalierung auf $[-1;1]$\n",
    "Um alle Pixelwerte auf den Bereich $[-1;1]$ zu skalieren, wird die Formel $$x_{norm}=\\frac{x-m}{x_{max}-x_{min}}$$ mit dem arithmetischen Mittel (mean) $m$ und dem höchsten bzw. niedrigsten Wert des Bildes $x_{max}$ bzw. $x_{min}$ auf jedes Bild einzeln angewandt. Alternative Implementierungen nutzen sogenannte \"Batches\", d.h. eine Gruppe von Bildern, die zur Berechnung des means, des Maximums und des Minimums hergenommen werden.<br>"
   ]
  },
  {
   "cell_type": "markdown",
   "metadata": {},
   "source": [
    "### Code - Skalierung auf $[-1;1]$\n",
    "Die Funktion unten setzt die gerade genannte Formel zur Skalierung eines Bildes auf das Intervall $[-1;1]$ um.<br>\n",
    "Es werden wieder das Originalbild und das normalisierte Bild ausgegeben."
   ]
  },
  {
   "cell_type": "code",
   "execution_count": 13,
   "metadata": {},
   "outputs": [
    {
     "data": {
      "text/plain": [
       "<Figure size 432x288 with 0 Axes>"
      ]
     },
     "metadata": {},
     "output_type": "display_data"
    },
    {
     "data": {
      "image/png": "[encoded data removed]",
      "text/plain": [
       "<Figure size 720x216 with 4 Axes>"
      ]
     },
     "metadata": {
      "needs_background": "light"
     },
     "output_type": "display_data"
    }
   ],
   "source": [
    "def scaleBetweenMinus1And1(x):\n",
    "    mean = np.mean(x)\n",
    "    maxVal = np.max(x)\n",
    "    minVal = np.min(x)\n",
    "    return (x - mean)/(maxVal - minVal)\n",
    "\n",
    "showImages(im, scaleBetweenMinus1And1(im))"
   ]
  },
  {
   "cell_type": "markdown",
   "metadata": {},
   "source": [
    "Eine weitere, oft genutzte Formel ist $$x_{norm}=\\frac{x-m}{s}$$ wieder mit dem mean $m$, dazu die Standardabweichung $s$. In diesem Fall wird die Verteilung der Pixel auf eine Normalverteilung abgebildet. Das führt wie schon oben dazu, dass das CNN kürzer trainiert werden muss. Grund dafür ist, dass neuronale Netze so ausgelegt sind, dass sie bei einer Normalverteilung der Features, d. h. der Inputwerte &ndash; in unserem Fall Pixelwerte &ndash; möglichst schnell konvergieren.\n",
    "<div class=\"alert alert-warning\">Bei dieser Skalierung liegen ca. 68% der Werte im Intervall $[-1;1]$ (vgl. <a href=\"https://de.wikipedia.org/w/index.php?title=Normalverteilung&oldid=205154928\">Wikipedia</a>). Dennoch besitzen alle Werte &ndash; ausgenommen Ausreißer &ndash; die Größenordnung $1$, was für ein neuronales Netz vollständig ausreichend ist. Zusammen mit dem Fakt, dass die Eingabewerte nach der Umformung normalverteilt sind (Mean: $0$, Standardabweichung: $1$), sorgt dies für eine Verkürzung der Trainingsdauer.</div>"
   ]
  },
  {
   "cell_type": "markdown",
   "metadata": {},
   "source": [
    "### Code - Skalierung auf Mean $0$, Standardabweichung $1$\n",
    "Die nächste Funktion setzt die im vorherigen Abschnitt gezeigte Funktion zur Skalierung der Pixelwerte auf eine Normalverteilung mit Mean $0$ und Standardabweichung $1$ um.<br>\n",
    "Es wird wieder das Bild vor und nach der Transformation ausgegeben.<br>\n",
    "Unter den Bildern steht jeweils der Mean und die Standardabweichung. Der Anteil im Intervall $[-1;1]$ ist nicht $68\\%$, weil die MNIST-Bilder fast ausschließlich aus schwarzen und weißen Pixeln bestehen. Für andere Bilder ist dieser Anteil näher am theoretischen Wert."
   ]
  },
  {
   "cell_type": "code",
   "execution_count": 14,
   "metadata": {},
   "outputs": [
    {
     "data": {
      "text/plain": [
       "<Figure size 432x288 with 0 Axes>"
      ]
     },
     "metadata": {},
     "output_type": "display_data"
    },
    {
     "data": {
      "image/png": "[encoded data removed]",
      "text/plain": [
       "<Figure size 720x216 with 4 Axes>"
      ]
     },
     "metadata": {
      "needs_background": "light"
     },
     "output_type": "display_data"
    },
    {
     "name": "stdout",
     "output_type": "stream",
     "text": [
      "Original Mean: 35.108418367346935, Normalisiert Mean: 7.250436079184695e-17\n",
      "Original Standardabweichung: 79.64882892760731, Normalisiert Standardabweichung: 1.0\n",
      "Anteil zwischen -1 und 1: 0.85\n"
     ]
    }
   ],
   "source": [
    "def scaleMean0StdDev1(x):\n",
    "    mean = np.mean(x)\n",
    "    std = np.std(x)\n",
    "    return (x - mean)/std\n",
    "\n",
    "norm = scaleMean0StdDev1(im)\n",
    "showImages(im, norm)\n",
    "\n",
    "print(f\"Original Mean: {np.mean(im)}, Normalisiert Mean: {np.mean(norm)}\")\n",
    "print(f\"Original Standardabweichung: {np.std(im)}, Normalisiert Standardabweichung: {np.std(norm)}\")\n",
    "print(\"Anteil zwischen -1 und 1: %.2f\" % (((-1 < norm) & (norm < 1)).sum()/norm.size))"
   ]
  },
  {
   "cell_type": "markdown",
   "metadata": {},
   "source": [
    "# Quellen\n",
    "http://web.ipac.caltech.edu/staff/fmasci/home/astro_refs/Digital_Image_Processing_3rdEd_truncated.pdf<br>\n",
    "http://www.dataminingblog.com/standardization-vs-normalization/<br>\n",
    "https://mathworld.wolfram.com/VectorNorm.html"
   ]
  }
 ],
 "metadata": {
  "kernelspec": {
   "display_name": "Python 3",
   "language": "python",
   "name": "python3"
  },
  "language_info": {
   "codemirror_mode": {
    "name": "ipython",
    "version": 3
   },
   "file_extension": ".py",
   "mimetype": "text/x-python",
   "name": "python",
   "nbconvert_exporter": "python",
   "pygments_lexer": "ipython3",
   "version": "3.7.8"
  }
 },
 "nbformat": 4,
 "nbformat_minor": 4
}
