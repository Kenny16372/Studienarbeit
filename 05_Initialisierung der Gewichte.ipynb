{
 "cells": [
  {
   "cell_type": "code",
   "execution_count": 1,
   "metadata": {},
   "outputs": [],
   "source": [
    "import numpy as np\n",
    "import matplotlib.pyplot as plt\n",
    "%matplotlib inline"
   ]
  },
  {
   "cell_type": "markdown",
   "metadata": {},
   "source": [
    "# Initialisierung der Gewichte\n",
    "Dieses Notebook bespricht zwei verschiedene Möglichkeiten, wie die Gewichte eines Netzwerks initialisiert werden können. Die erste ist HeNormal, die zweite HeUniform. Das He steht dabei für den Autor des Papers, in dem diese Initialisierungen erarbeitet wurden. Für weitere Infos zu diesen Themen ist <a href=\"https://www.cv-foundation.org/openaccess/content_iccv_2015/html/He_Delving_Deep_into_ICCV_2015_paper.html\">hier</a> das Original-Paper.\n",
    "## HeNormal\n",
    "Bei der Initialisierung mit HeNormal werden die Werte aus einer Normalverteilung mit mean $0$ und Standardabweichung $\\sqrt{\\frac{2}{fan_{in}}}$ mit $fan_{in}$ als Anzahl der Gewichte gezogen."
   ]
  },
  {
   "cell_type": "markdown",
   "metadata": {},
   "source": [
    "### Code - Verteilung von HeNormal\n",
    "Die folgende Funktion generiert eine als Paramter übergebene Anzahl von nach HeNormal-verteilten Werten.<br>\n",
    "Darauf werden diese in Form eines Histogramms dargestellt."
   ]
  },
  {
   "cell_type": "code",
   "execution_count": 2,
   "metadata": {},
   "outputs": [
    {
     "data": {
      "image/png": "[encoded data removed]",
      "text/plain": [
       "<Figure size 432x288 with 1 Axes>"
      ]
     },
     "metadata": {
      "needs_background": "light"
     },
     "output_type": "display_data"
    }
   ],
   "source": [
    "def heNormal(num):\n",
    "    gen = np.random.default_rng()\n",
    "    mu = 0\n",
    "    sigma = np.sqrt(2 / num)\n",
    "    return mu + sigma * gen.standard_normal(size=num)\n",
    "\n",
    "plt.clf()\n",
    "plt.hist(heNormal(10000), bins=100)\n",
    "plt.show()"
   ]
  },
  {
   "cell_type": "markdown",
   "metadata": {},
   "source": [
    "## HeUniform\n",
    "Bei HeUniform werden die Werte für die Gewichte aus dem Intervall $[-limit;limit]$ gewählt, mit $limit=\\sqrt{\\frac{6}{fan_{in}}}$ und $fan_{in}$ wieder als Anzahl der Gewichte. Jeder Wert hat hierbei die gleiche Wahrscheinlichkeit."
   ]
  },
  {
   "cell_type": "markdown",
   "metadata": {},
   "source": [
    "### Code - Verteilung von HeUniform\n",
    "Die folgende Funktion generiert eine als Paramter übergebene Anzahl von nach HeUniform-verteilten Werten.<br>\n",
    "Darauf werden diese in Form eines Histogramms dargestellt."
   ]
  },
  {
   "cell_type": "code",
   "execution_count": 3,
   "metadata": {},
   "outputs": [
    {
     "data": {
      "image/png": "[encoded data removed]",
      "text/plain": [
       "<Figure size 432x288 with 1 Axes>"
      ]
     },
     "metadata": {
      "needs_background": "light"
     },
     "output_type": "display_data"
    }
   ],
   "source": [
    "def heUniform(num):\n",
    "    gen = np.random.default_rng()\n",
    "    limit = np.sqrt(6 / num)\n",
    "    return 2 * limit * gen.random(size=num) - limit\n",
    "\n",
    "plt.clf()\n",
    "plt.hist(heUniform(10000), bins=100)\n",
    "plt.show()"
   ]
  },
  {
   "cell_type": "markdown",
   "metadata": {},
   "source": [
    "## Welche Initialisierung sollte gewählt werden?\n",
    "Da der einzige Unterschied zwischen den verschiedenen Initialisierungen ist der erhöhte Lernaufwand bei nicht optimal gewählten Gewichten. Da die Zielgewichte aber kaum abgeschätzt werden können, ist nicht klar, welche Gewichte einen guten Startwert darstellen. Das einzige Argument, das eine Methode der anderen vorzieht, ist, dass HeNormal in den letzten Jahren HeUniform vorgezogen wurde, was keine große Bedeutung hat."
   ]
  },
  {
   "cell_type": "markdown",
   "metadata": {},
   "source": [
    "# Quellen\n",
    "https://www.cv-foundation.org/openaccess/content_iccv_2015/html/He_Delving_Deep_into_ICCV_2015_paper.html"
   ]
  }
 ],
 "metadata": {
  "kernelspec": {
   "display_name": "Python 3",
   "language": "python",
   "name": "python3"
  },
  "language_info": {
   "codemirror_mode": {
    "name": "ipython",
    "version": 3
   },
   "file_extension": ".py",
   "mimetype": "text/x-python",
   "name": "python",
   "nbconvert_exporter": "python",
   "pygments_lexer": "ipython3",
   "version": "3.7.8"
  }
 },
 "nbformat": 4,
 "nbformat_minor": 4
}
