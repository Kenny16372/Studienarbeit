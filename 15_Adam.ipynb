{
 "cells": [
  {
   "cell_type": "markdown",
   "metadata": {},
   "source": [
    "# Adam\n",
    "Der letzte hier betrachtete Algorithmus ist Adam oder Adaptive Moment Estimation. Dieser ist zur Zeit der bevorzugte Optimizer.\n",
    "## Berechnung\n",
    "In der Berechnung setzt Adam auf RMSProp auf. Der gleitende exponentielle Mittelwert des Quadrates des Gradienten aus RMSProp wird hier $v$ genannt. Neben diesem gibt es einen gleitenden exponentiellen Mittelwert des Gradienten (nicht des Quadrates) $m$. Die adaptive Lernrate wird im Update dann als $\\eta\\frac{m}{\\sqrt{v}}$ berechnet ($\\eta$ ist die feste Lernrate).<br>\n",
    "$v$ sorgt wie bei Adagrad bereits angesprochen für die adaptive Lernrate. Für Dimensionen mit größeren Werten wächst $v_i$ schneller als für Dimensionen mit kleineren Werten. Dadurch wird die Lernrate kleiner, was den größeren Werten entgegenwirkt. Somit wird das Update der Gewichte auch durch kleinere Dimensionen beeinflusst.\n",
    "\n",
    "## Vorteile\n",
    "- Derzeit der beste Algorithmus\n",
    "\n",
    "## Nachteile\n",
    "- Neue Parameter $\\beta_1$ und $\\beta_2$ ($\\beta_2$ -> Quadrat des Gradienten) für die Exponentiellen Mittelwerte (Standardwerte: $\\beta_1=0.9$ und $\\beta_2=0.999$)\n",
    "\n",
    "## Quellen\n",
    "https://machinelearningjourney.com/index.php/2021/01/09/adam-optimizer/"
   ]
  }
 ],
 "metadata": {
  "kernelspec": {
   "display_name": "Python 3",
   "language": "python",
   "name": "python3"
  },
  "language_info": {
   "codemirror_mode": {
    "name": "ipython",
    "version": 3
   },
   "file_extension": ".py",
   "mimetype": "text/x-python",
   "name": "python",
   "nbconvert_exporter": "python",
   "pygments_lexer": "ipython3",
   "version": "3.7.10"
  }
 },
 "nbformat": 4,
 "nbformat_minor": 4
}
