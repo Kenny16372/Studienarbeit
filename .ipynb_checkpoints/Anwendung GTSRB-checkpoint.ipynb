{
 "cells": [
  {
   "cell_type": "code",
   "execution_count": 15,
   "metadata": {},
   "outputs": [],
   "source": [
    "import warnings\n",
    "warnings.filterwarnings('ignore')\n",
    "import numpy as np\n",
    "import matplotlib.pyplot as plt\n",
    "import tensorflow as tf\n",
    "from keras.utils import to_categorical\n",
    "from keras.models import Sequential\n",
    "from keras.layers import Conv2D, MaxPool2D, Dense, Flatten, Dropout\n",
    "from sklearn.model_selection import train_test_split\n",
    "import cv2\n",
    "import os"
   ]
  },
  {
   "cell_type": "markdown",
   "metadata": {},
   "source": [
    "# Klassifizierung des German Traffic Sign Datensatzes"
   ]
  },
  {
   "cell_type": "code",
   "execution_count": 8,
   "metadata": {},
   "outputs": [
    {
     "name": "stdout",
     "output_type": "stream",
     "text": [
      "(39209, 30, 30, 3) (39209,)\n"
     ]
    }
   ],
   "source": [
    "# loading dataset\n",
    "data = []\n",
    "labels = []\n",
    "classes = 43\n",
    "cur_path = './datasets/GTSRB/Train'\n",
    "\n",
    "for i in os.listdir(cur_path):\n",
    "    dir = cur_path + '/' + i\n",
    "    for j in os.listdir(dir):\n",
    "        img_path = dir+'/'+j\n",
    "        img = cv2.imread(img_path,-1)\n",
    "        img = cv2.resize(img, (30,30), interpolation = cv2.INTER_NEAREST)\n",
    "        data.append(img)\n",
    "        labels.append(i)\n",
    "        \n",
    "data = np.array(data)\n",
    "labels = np.array(labels)\n",
    "print(data.shape, labels.shape)"
   ]
  },
  {
   "cell_type": "code",
   "execution_count": 12,
   "metadata": {},
   "outputs": [
    {
     "name": "stdout",
     "output_type": "stream",
     "text": [
      "((29406, 30, 30, 3), (29406,)) ((9803, 30, 30, 3), (9803,))\n"
     ]
    }
   ],
   "source": [
    "X_train, X_test, y_train, y_test = train_test_split(data, labels, test_size= 0.25, random_state=21)\n",
    "\n",
    "print((X_train.shape, y_train.shape), (X_test.shape, y_test.shape))\n",
    "\n",
    "# converting the labels into one hot encoding\n",
    "y_train = to_categorical(y_train, 43)\n",
    "y_test = to_categorical(y_test, 43)"
   ]
  },
  {
   "cell_type": "markdown",
   "metadata": {},
   "source": [
    "Im folgenden Code wird das Modell erstellt und kompiliert."
   ]
  },
  {
   "cell_type": "code",
   "execution_count": 13,
   "metadata": {},
   "outputs": [
    {
     "name": "stdout",
     "output_type": "stream",
     "text": [
      "WARNING:tensorflow:From C:\\ProgramData\\Anaconda3\\envs\\cnn\\lib\\site-packages\\keras\\backend\\tensorflow_backend.py:4070: The name tf.nn.max_pool is deprecated. Please use tf.nn.max_pool2d instead.\n",
      "\n"
     ]
    }
   ],
   "source": [
    "model = Sequential()\n",
    "model.add(Conv2D(filters = 32, kernel_size = (5,5), activation ='relu', input_shape = (30,30,3)))\n",
    "model.add(Conv2D(filters = 32, kernel_size = (5,5), activation = 'relu'))\n",
    "model.add(MaxPool2D(pool_size = (2,2)))\n",
    "model.add(Dropout(rate = 0.25))\n",
    "\n",
    "model.add(Conv2D(filters = 64, kernel_size = (3,3), activation ='relu'))\n",
    "model.add(Conv2D(filters = 64, kernel_size = (3,3), activation ='relu'))\n",
    "model.add(MaxPool2D(pool_size = (2,2)))\n",
    "model.add(Dropout(rate = 0.25))\n",
    "\n",
    "model.add(Flatten())\n",
    "model.add(Dense(256, activation = 'relu'))\n",
    "model.add(Dropout(rate = 0.5))\n",
    "model.add(Dense(43, activation= 'softmax'))\n",
    "\n",
    "model.compile(loss = 'categorical_crossentropy', optimizer ='adam', metrics =['accuracy'])"
   ]
  },
  {
   "cell_type": "code",
   "execution_count": 14,
   "metadata": {},
   "outputs": [
    {
     "name": "stdout",
     "output_type": "stream",
     "text": [
      "WARNING:tensorflow:From C:\\ProgramData\\Anaconda3\\envs\\cnn\\lib\\site-packages\\keras\\backend\\tensorflow_backend.py:422: The name tf.global_variables is deprecated. Please use tf.compat.v1.global_variables instead.\n",
      "\n",
      "Train on 29406 samples, validate on 9803 samples\n",
      "Epoch 1/15\n",
      "29406/29406 [==============================] - 84s 3ms/step - loss: 2.6141 - accuracy: 0.3858 - val_loss: 0.8490 - val_accuracy: 0.7978\n",
      "Epoch 2/15\n",
      "29406/29406 [==============================] - 84s 3ms/step - loss: 0.9402 - accuracy: 0.7211 - val_loss: 0.3428 - val_accuracy: 0.9147\n",
      "Epoch 3/15\n",
      "29406/29406 [==============================] - 86s 3ms/step - loss: 0.6116 - accuracy: 0.8164 - val_loss: 0.2259 - val_accuracy: 0.9480\n",
      "Epoch 4/15\n",
      "29406/29406 [==============================] - 85s 3ms/step - loss: 0.4745 - accuracy: 0.8550 - val_loss: 0.1520 - val_accuracy: 0.9590\n",
      "Epoch 5/15\n",
      "29406/29406 [==============================] - 89s 3ms/step - loss: 0.3825 - accuracy: 0.8836 - val_loss: 0.1258 - val_accuracy: 0.9652\n",
      "Epoch 6/15\n",
      "29406/29406 [==============================] - 87s 3ms/step - loss: 0.3437 - accuracy: 0.8974 - val_loss: 0.1242 - val_accuracy: 0.9664\n",
      "Epoch 7/15\n",
      "29406/29406 [==============================] - 91s 3ms/step - loss: 0.2972 - accuracy: 0.9120 - val_loss: 0.0926 - val_accuracy: 0.9745\n",
      "Epoch 8/15\n",
      "29406/29406 [==============================] - 85s 3ms/step - loss: 0.2780 - accuracy: 0.9169 - val_loss: 0.0893 - val_accuracy: 0.9726\n",
      "Epoch 9/15\n",
      "29406/29406 [==============================] - 87s 3ms/step - loss: 0.2447 - accuracy: 0.9269 - val_loss: 0.0697 - val_accuracy: 0.9813\n",
      "Epoch 10/15\n",
      "29406/29406 [==============================] - 86s 3ms/step - loss: 0.2451 - accuracy: 0.9244 - val_loss: 0.0759 - val_accuracy: 0.9784\n",
      "Epoch 11/15\n",
      "29406/29406 [==============================] - 86s 3ms/step - loss: 0.2365 - accuracy: 0.9304 - val_loss: 0.1128 - val_accuracy: 0.9685\n",
      "Epoch 12/15\n",
      "29406/29406 [==============================] - 86s 3ms/step - loss: 0.2202 - accuracy: 0.9351 - val_loss: 0.0679 - val_accuracy: 0.9812\n",
      "Epoch 13/15\n",
      "29406/29406 [==============================] - 86s 3ms/step - loss: 0.2380 - accuracy: 0.9298 - val_loss: 0.0715 - val_accuracy: 0.9780\n",
      "Epoch 14/15\n",
      "29406/29406 [==============================] - 87s 3ms/step - loss: 0.2313 - accuracy: 0.9334 - val_loss: 0.0734 - val_accuracy: 0.9794\n",
      "Epoch 15/15\n",
      "29406/29406 [==============================] - 86s 3ms/step - loss: 0.2195 - accuracy: 0.9368 - val_loss: 0.0660 - val_accuracy: 0.9825\n"
     ]
    }
   ],
   "source": [
    "epochs = 15\n",
    "history = model.fit(X_train, y_train, \n",
    "                   batch_size=64,\n",
    "                   epochs=epochs,\n",
    "                   validation_data=(X_test, y_test))"
   ]
  },
  {
   "cell_type": "code",
   "execution_count": 22,
   "metadata": {},
   "outputs": [
    {
     "data": {
      "image/png": "[encoded data removed]",
      "text/plain": [
       "<Figure size 432x288 with 1 Axes>"
      ]
     },
     "metadata": {
      "needs_background": "light"
     },
     "output_type": "display_data"
    }
   ],
   "source": [
    "plt.clf()\n",
    "plt.plot(history.history['accuracy'], label=\"Accuracy\")\n",
    "plt.plot(history.history['val_accuracy'], label=\"Validation Accuracy\")\n",
    "plt.legend(prop={'size': 12})\n",
    "plt.show()"
   ]
  },
  {
   "cell_type": "markdown",
   "metadata": {},
   "source": [
    "Im Diagramm ist die Accuracy und die Accuracy auf das Validation Set dargestellt"
   ]
  }
 ],
 "metadata": {
  "kernelspec": {
   "display_name": "Python 3",
   "language": "python",
   "name": "python3"
  },
  "language_info": {
   "codemirror_mode": {
    "name": "ipython",
    "version": 3
   },
   "file_extension": ".py",
   "mimetype": "text/x-python",
   "name": "python",
   "nbconvert_exporter": "python",
   "pygments_lexer": "ipython3",
   "version": "3.7.8"
  }
 },
 "nbformat": 4,
 "nbformat_minor": 4
}
