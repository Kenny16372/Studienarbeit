{
 "cells": [
  {
   "cell_type": "markdown",
   "metadata": {},
   "source": [
    "# Klassifizierung von MNIST\n",
    "Der Code in diesem Notebook beschäftigt sich mit der Anwendung eines CNNs auf den MNIST-Datensatz."
   ]
  },
  {
   "cell_type": "code",
   "execution_count": 1,
   "metadata": {},
   "outputs": [
    {
     "name": "stderr",
     "output_type": "stream",
     "text": [
      "Using TensorFlow backend.\n"
     ]
    }
   ],
   "source": [
    "import numpy as np\n",
    "from keras.datasets.mnist import load_data\n",
    "from tensorflow.keras.models import Sequential\n",
    "from tensorflow.keras.layers import Conv2D, MaxPooling2D, Dense, Flatten\n",
    "from tensorflow.keras.utils import to_categorical\n",
    "import matplotlib.pyplot as plt\n",
    "from sklearn.metrics import classification_report, confusion_matrix, plot_confusion_matrix, ConfusionMatrixDisplay"
   ]
  },
  {
   "cell_type": "markdown",
   "metadata": {},
   "source": [
    "### Laden der Daten\n",
    "Es werden die MNIST-Daten geladen. Sie bestehen aus einem Trainings- und einem Testdatensatz ($60000$ bzw. $10000$ Bilder mit den zugehörigen Klassen)."
   ]
  },
  {
   "cell_type": "code",
   "execution_count": 2,
   "metadata": {},
   "outputs": [],
   "source": [
    "(x_train, y_train), (x_test, y_test) = load_data()"
   ]
  },
  {
   "cell_type": "markdown",
   "metadata": {},
   "source": [
    "### Normalisierung der Daten\n",
    "In diesem Schritt werden die Pixelwerte der Daten normalisiert. Hierzu wird die Formel $$x_{norm}=\\frac{x-mean}{x_{max}-x_{min}}$$ verwendet. Außerdem werden die Bilder um eine Dimension vergrößert, weil die Keras-Klassen 3D-Bilder (die dritte Dimension ist Farbe) erwarten."
   ]
  },
  {
   "cell_type": "code",
   "execution_count": 3,
   "metadata": {},
   "outputs": [],
   "source": [
    "def scaleBetweenMinus1And1(x):\n",
    "    mean = np.mean(x)\n",
    "    maxVal = np.max(x)\n",
    "    minVal = np.min(x)\n",
    "    return (x - mean)/(maxVal - minVal)\n",
    "\n",
    "x_train = scaleBetweenMinus1And1(x_train)\n",
    "x_test = scaleBetweenMinus1And1(x_test)\n",
    "\n",
    "x_train = np.expand_dims(x_train, axis=3)\n",
    "x_test = np.expand_dims(x_test, axis=3)"
   ]
  },
  {
   "cell_type": "markdown",
   "metadata": {},
   "source": [
    "### Erstellung des Modells\n",
    "Das Modell ist simpel gehalten. Es gibt eine Konvolutions-Schicht, die acht $3\\times 3$-Kernel auf die Bilder anwendet. Diese wird gefolgt von einer MaxPooling-Schicht mit einem $2\\times 2$-Pooling-Kernel. Dann werden die dreidimensionalen Daten zu einem eindimensionalen Vektor entfaltet. Zur Klassifikation wird ein vollständig verbundenes Neuronales Netzwerk verwendet, welches $10$ Knoten besitzt, eine für jede der $10$ möglichen Ziffern, die im Datensatz enthalten sind. Als Aktivierungsfunktion dieser Schicht wird Softmax gewählt.<br>\n",
    "Nun wird das Modell kompiliert. Dazu gibt es verschiedene Parameter, die für diesen Fall auf den Optimizer &bdquo;Adam&rdquo;, die Loss-Funktion &bdquo;Categorical Crossentropy&rdquo; und die Metrik &bdquo;Genauigkeit&rdquo; gesetzt werden."
   ]
  },
  {
   "cell_type": "code",
   "execution_count": 4,
   "metadata": {},
   "outputs": [],
   "source": [
    "filter_count = 8\n",
    "kernel_size = 3\n",
    "pooling_size = 2\n",
    "\n",
    "model = Sequential([\n",
    "  Conv2D(filter_count, kernel_size, input_shape=(28, 28, 1)),\n",
    "  MaxPooling2D(pool_size=pooling_size),\n",
    "  Flatten(),\n",
    "  Dense(10, activation='softmax'),\n",
    "])\n",
    "\n",
    "model.compile(\n",
    "  'adam',\n",
    "  loss='categorical_crossentropy',\n",
    "  metrics=['accuracy'],\n",
    ")"
   ]
  },
  {
   "cell_type": "markdown",
   "metadata": {},
   "source": [
    "### Training des Modells\n",
    "Im letzten Schritt wird die fit()-Methode des Modells aufgerufen, der die Datensätze übergeben werden. Die Klassen werden hierbei zu einem $10$-dimensionalen Vektor im One-Hot-Encoding umgeformt. Weiter wird die Anzahl der Epochen auf $3$ festgelegt. Das Ergebnis ist eine Genauigkeit von ca. $96,5\\%$ auf die Testdaten."
   ]
  },
  {
   "cell_type": "code",
   "execution_count": 5,
   "metadata": {},
   "outputs": [
    {
     "name": "stdout",
     "output_type": "stream",
     "text": [
      "Train on 60000 samples, validate on 10000 samples\n",
      "Epoch 1/3\n",
      "WARNING:tensorflow:Entity <function Function._initialize_uninitialized_variables.<locals>.initialize_variables at 0x000001C154D038B8> could not be transformed and will be executed as-is. Please report this to the AutoGraph team. When filing the bug, set the verbosity to 10 (on Linux, `export AUTOGRAPH_VERBOSITY=10`) and attach the full output. Cause: No module named 'tensorflow_core.estimator'\n",
      "WARNING: Entity <function Function._initialize_uninitialized_variables.<locals>.initialize_variables at 0x000001C154D038B8> could not be transformed and will be executed as-is. Please report this to the AutoGraph team. When filing the bug, set the verbosity to 10 (on Linux, `export AUTOGRAPH_VERBOSITY=10`) and attach the full output. Cause: No module named 'tensorflow_core.estimator'\n",
      "60000/60000 [==============================] - 13s 219us/sample - loss: 0.3577 - accuracy: 0.8995 - val_loss: 0.2366 - val_accuracy: 0.9334\n",
      "Epoch 2/3\n",
      "60000/60000 [==============================] - 12s 201us/sample - loss: 0.2132 - accuracy: 0.9392 - val_loss: 0.1786 - val_accuracy: 0.9495\n",
      "Epoch 3/3\n",
      "60000/60000 [==============================] - 13s 221us/sample - loss: 0.1634 - accuracy: 0.9533 - val_loss: 0.1499 - val_accuracy: 0.9585\n"
     ]
    }
   ],
   "source": [
    "hist = model.fit(\n",
    "  x_train,\n",
    "  to_categorical(y_train),\n",
    "  epochs=3,\n",
    "  validation_data=(x_test, to_categorical(y_test)),\n",
    ")"
   ]
  },
  {
   "cell_type": "markdown",
   "metadata": {},
   "source": [
    "### One-Hot-Encoding\n",
    "Es folgt eine kurze Erklärung des One-Hot-Encodings.<br>\n",
    "In den MNIST-Daten gibt es $10$ Klassen, die Zahlen $0$ bis $9$. Im One-Hot-Encoding werden sie auf einen $10$-dimensionaler Vektor abgebildet (pro Klasse eine Dimension). Es wird der Index der Klasse auf $1$ gesetzt, und die restlichen Indizes auf $0$. Anschaulich steht der Wert an Index $i$ für die Wahrscheinlichkeit, dass der Vektor für Klasse i steht.<br>\n",
    "Das ist dann sinnvoll, wenn nicht mehr die Ergebnisklassen als Vektor betrachtet werden, sondern der Output des letzten Dense-Layers des CNNs. Dieser spiegelt die Wahrscheinlichkeitsverteilung für die jeweiligen Klassen wider. Das Ziel des CNNs ist es, von den Inputbildern möglichst gut auf die entsprechenden Vektoren zu schließen.\n",
    "### Code - One-Hot-Encoding\n",
    "Das folgende Codebeispiel zeigt die Klassen des MNIST-Datensatzes und deren Abbildung im One-Hot-Encoding."
   ]
  },
  {
   "cell_type": "code",
   "execution_count": 6,
   "metadata": {},
   "outputs": [
    {
     "name": "stdout",
     "output_type": "stream",
     "text": [
      "0: [1. 0. 0. 0. 0. 0. 0. 0. 0. 0.]\n",
      "1: [0. 1. 0. 0. 0. 0. 0. 0. 0. 0.]\n",
      "2: [0. 0. 1. 0. 0. 0. 0. 0. 0. 0.]\n",
      "3: [0. 0. 0. 1. 0. 0. 0. 0. 0. 0.]\n",
      "4: [0. 0. 0. 0. 1. 0. 0. 0. 0. 0.]\n",
      "5: [0. 0. 0. 0. 0. 1. 0. 0. 0. 0.]\n",
      "6: [0. 0. 0. 0. 0. 0. 1. 0. 0. 0.]\n",
      "7: [0. 0. 0. 0. 0. 0. 0. 1. 0. 0.]\n",
      "8: [0. 0. 0. 0. 0. 0. 0. 0. 1. 0.]\n",
      "9: [0. 0. 0. 0. 0. 0. 0. 0. 0. 1.]\n"
     ]
    }
   ],
   "source": [
    "values = np.arange(10)\n",
    "oneHot = to_categorical(values)\n",
    "for val, hot in zip(values, oneHot):\n",
    "    print(f\"{val}: {hot}\")"
   ]
  },
  {
   "cell_type": "code",
   "execution_count": 6,
   "metadata": {},
   "outputs": [
    {
     "name": "stdout",
     "output_type": "stream",
     "text": [
      "4\n",
      "4\n"
     ]
    },
    {
     "data": {
      "image/png": "[encoded data removed]",
      "text/plain": [
       "<Figure size 432x288 with 1 Axes>"
      ]
     },
     "metadata": {
      "needs_background": "light"
     },
     "output_type": "display_data"
    }
   ],
   "source": [
    "num = 4\n",
    "plt.imshow(x_test[num], cmap=\"Greys\")\n",
    "print(np.argmax(model.predict(np.expand_dims(x_test[num], 0))))\n",
    "print(y_test[num])"
   ]
  },
  {
   "cell_type": "code",
   "execution_count": 8,
   "metadata": {},
   "outputs": [],
   "source": [
    "import os\n",
    "model.save(\"MNIST.h5\", save_format=\"tf\")"
   ]
  },
  {
   "cell_type": "code",
   "execution_count": 9,
   "metadata": {
    "scrolled": true
   },
   "outputs": [
    {
     "data": {
      "text/plain": [
       "[<matplotlib.lines.Line2D at 0x13d32a30f08>]"
      ]
     },
     "execution_count": 9,
     "metadata": {},
     "output_type": "execute_result"
    },
    {
     "data": {
      "image/png": "[encoded data removed]",
      "text/plain": [
       "<Figure size 432x288 with 1 Axes>"
      ]
     },
     "metadata": {
      "needs_background": "light"
     },
     "output_type": "display_data"
    }
   ],
   "source": [
    "plt.plot(hist.history['accuracy'])\n",
    "plt.plot(hist.history['val_accuracy'])"
   ]
  },
  {
   "cell_type": "code",
   "execution_count": null,
   "metadata": {},
   "outputs": [],
   "source": [
    "YPred = [np.argmax(x) for x in model.predict(x_test)]"
   ]
  },
  {
   "cell_type": "code",
   "execution_count": 17,
   "metadata": {},
   "outputs": [
    {
     "name": "stdout",
     "output_type": "stream",
     "text": [
      "ERROR! Session/line number was not unique in database. History logging moved to new session 249\n"
     ]
    },
    {
     "data": {
      "text/plain": [
       "<sklearn.metrics._plot.confusion_matrix.ConfusionMatrixDisplay at 0x13d3520f0c8>"
      ]
     },
     "execution_count": 17,
     "metadata": {},
     "output_type": "execute_result"
    },
    {
     "data": {
      "image/png": "[encoded data removed]",
      "text/plain": [
       "<Figure size 432x288 with 2 Axes>"
      ]
     },
     "metadata": {
      "needs_background": "light"
     },
     "output_type": "display_data"
    }
   ],
   "source": [
    "ConfusionMatrixDisplay(confusion_matrix(y_test, YPred)).plot(cmap=\"Blues\")"
   ]
  },
  {
   "cell_type": "code",
   "execution_count": 18,
   "metadata": {},
   "outputs": [
    {
     "name": "stdout",
     "output_type": "stream",
     "text": [
      "ERROR! Session/line number was not unique in database. History logging moved to new session 250\n",
      "              precision    recall  f1-score   support\n",
      "\n",
      "           0       0.97      0.99      0.98       980\n",
      "           1       0.95      1.00      0.97      1135\n",
      "           2       0.97      0.96      0.96      1032\n",
      "           3       0.98      0.97      0.98      1010\n",
      "           4       0.97      0.98      0.98       982\n",
      "           5       0.97      0.98      0.97       892\n",
      "           6       0.98      0.98      0.98       958\n",
      "           7       0.96      0.97      0.97      1028\n",
      "           8       0.99      0.94      0.96       974\n",
      "           9       0.98      0.95      0.96      1009\n",
      "\n",
      "    accuracy                           0.97     10000\n",
      "   macro avg       0.97      0.97      0.97     10000\n",
      "weighted avg       0.97      0.97      0.97     10000\n",
      "\n"
     ]
    }
   ],
   "source": [
    "print(classification_report(y_test, YPred))"
   ]
  }
 ],
 "metadata": {
  "kernelspec": {
   "display_name": "Python 3",
   "language": "python",
   "name": "python3"
  },
  "language_info": {
   "codemirror_mode": {
    "name": "ipython",
    "version": 3
   },
   "file_extension": ".py",
   "mimetype": "text/x-python",
   "name": "python",
   "nbconvert_exporter": "python",
   "pygments_lexer": "ipython3",
   "version": "3.7.10"
  }
 },
 "nbformat": 4,
 "nbformat_minor": 4
}
