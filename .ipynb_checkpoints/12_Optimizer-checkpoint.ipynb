{
 "cells": [
  {
   "cell_type": "code",
   "execution_count": 7,
   "metadata": {},
   "outputs": [],
   "source": [
    "import numpy as np\n",
    "%matplotlib inline\n",
    "import matplotlib.pyplot as plt\n",
    "from operator import add"
   ]
  },
  {
   "cell_type": "markdown",
   "metadata": {},
   "source": [
    "# Optimizer\n",
    "Zur Einführung in neuronale Netze wird in der Backpropagation (der Optimierung der Gewichte) häufig der Gradientenabstieg genutzt. Obwohl dieser gut als Ball veranschaulicht werden kann, der stets in Richtung der größten Steigung (negativ) rollt, hat der Algorithmus eine Schwachstelle. Diese ist der Parameter der Schrittweite. Er wird von Anfang an festgelegt, und auch wenn er so festgelegt wird, dass er mit der Zeit abnimmt und somit die Suche nach dem Minimum in dessen Nähe feiner wird, kann trotzdem nicht im Lernprozess auf die Daten reagiert werden. Um von der konstanten Schrittweite wegzukommen, wurden mehrere Algorithmen entwickelt, die in den nächsten Notebooks vorgestellt werden."
   ]
  },
  {
   "cell_type": "markdown",
   "metadata": {},
   "source": [
    "## Wiederholung Gradientenabstieg\n",
    "Der Gradientenabstieg ist ein Algorithmus, der dazu genutzt wird, um das **Minimum einer Funktion** zu finden. Der Gradient ist ein Vektor, der die Ableitungen in Richtung der Koordinatenvektoren an einem Punkt erhält. Anschaulich zeigt der Gradient immer in **Richtung des größten Gefälles** an einem Punkt.\n",
    "### Der Algorithmus\n",
    "Es wird an einem zufälligen Startpunkt begonnen und der Gradient an diesem Punkt berechnet. Dann wird ein kleiner Schritt in Richtung des Gradienten, d. h. zum Minimum, gemacht und der Prozess beginnt von vorne. Die Abbruchbedingung ist dann erreicht, wenn sich der Wert von zwei aufeinanderfolgenden Punkten nur noch sehr gering ändert, der Gradient in diesem Bereich des Graphen also fast $\\vec{0}$ ist.<br>\n",
    "Folgende Abbildung zeigt die ersten Schritte des Gradientenabstiegs an einem zweidimensionalen Beispiel. Der Algorithmus ist auf beliebig viele Dimensionen anwendbar.\n",
    "<div style=\"width:40%;margin:auto\">\n",
    "<img src=\"assets/Gradient_descent.svg\" alt=\"2D Beispiel des Gradientenabstiegs\"/>\n",
    "<small style=\"text-align:right;display:block\"><a href=\"https://en.wikipedia.org/w/index.php?title=Gradient_descent&oldid=1019572955\">Quelle</a></small>\n",
    "<div style=\"text-align:center;color:RGB(117,117,117)\">Zweidimensionales Beispiel des Gradientenabstiegs</div>\n",
    "</div>"
   ]
  },
  {
   "cell_type": "code",
   "execution_count": null,
   "metadata": {},
   "outputs": [],
   "source": []
  },
  {
   "cell_type": "code",
   "execution_count": 26,
   "metadata": {},
   "outputs": [
    {
     "data": {
      "text/plain": [
       "<matplotlib.colorbar.Colorbar at 0x20468094d88>"
      ]
     },
     "execution_count": 26,
     "metadata": {},
     "output_type": "execute_result"
    },
    {
     "data": {
      "image/png": "[encoded data removed]",
      "text/plain": [
       "<Figure size 432x288 with 2 Axes>"
      ]
     },
     "metadata": {
      "needs_background": "light"
     },
     "output_type": "display_data"
    }
   ],
   "source": [
    "startingPoint = np.array([-.8, -.9])\n",
    "stepSize = .1\n",
    "\n",
    "def f(x, y):\n",
    "    return x**2 + y**2\n",
    "\n",
    "def gradient(x, y):\n",
    "    return np.array([-2*x, -2*y])\n",
    "\n",
    "# Draw plot\n",
    "x = np.linspace(-1, 1, 100)\n",
    "y = np.linspace(-1, 1, 100)\n",
    "X, Y = np.meshgrid(x, y)\n",
    "Z = f(X, Y)\n",
    "fig = plt.figure()\n",
    "ax = fig.add_subplot(1,1,1)\n",
    "#ax.view_init(elev=30, azim=0)\n",
    "#ax.set_xlim(-1, .25)\n",
    "\n",
    "# gradient descent\n",
    "epsilon = 1e-5\n",
    "quiver = []\n",
    "value = f(*startingPoint)\n",
    "prevValue = value - 2*epsilon\n",
    "curr = startingPoint\n",
    "while abs(value-prevValue) > epsilon:\n",
    "    prevValue = value\n",
    "    update = stepSize*gradient(*curr)\n",
    "    newCurr = curr + update\n",
    "    value = f(*newCurr)\n",
    "    quiver.append((*curr, *newCurr))\n",
    "    curr = newCurr\n",
    "qx, qy, qdx, qdy = [np.asarray(x) for x in zip(*quiver)]\n",
    "#im = ax.plot_surface(X, Y, Z, cmap=\"Spectral\", zorder=10)\n",
    "im = ax.contourf(X, Y, Z)\n",
    "q = ax.quiver(qx, qy, qdx-qx, qdy-qy, color=\"k\", scale=2)\n",
    "ax.plot(0,0,0, color=\"b\")\n",
    "fig.colorbar(im)\n"
   ]
  },
  {
   "cell_type": "code",
   "execution_count": 3,
   "metadata": {},
   "outputs": [
    {
     "name": "stdout",
     "output_type": "stream",
     "text": [
      "[(1, 3, 5, 7), (2, 4, 6, 8)]\n"
     ]
    }
   ],
   "source": [
    "have = [(1,2), (3,4), (5,6), (7,8)]\n",
    "print([x for x in zip(*have)])"
   ]
  }
 ],
 "metadata": {
  "kernelspec": {
   "display_name": "Python 3",
   "language": "python",
   "name": "python3"
  },
  "language_info": {
   "codemirror_mode": {
    "name": "ipython",
    "version": 3
   },
   "file_extension": ".py",
   "mimetype": "text/x-python",
   "name": "python",
   "nbconvert_exporter": "python",
   "pygments_lexer": "ipython3",
   "version": "3.7.10"
  }
 },
 "nbformat": 4,
 "nbformat_minor": 4
}
