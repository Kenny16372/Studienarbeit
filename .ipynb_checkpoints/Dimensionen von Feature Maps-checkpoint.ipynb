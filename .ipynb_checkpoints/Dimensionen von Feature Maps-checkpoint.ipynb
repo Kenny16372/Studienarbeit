{
 "cells": [
  {
   "cell_type": "code",
   "execution_count": 13,
   "id": "4776a09f",
   "metadata": {},
   "outputs": [],
   "source": [
    "import numpy as np\n",
    "import matplotlib.pyplot as plt\n",
    "from matplotlib.patches import Rectangle"
   ]
  },
  {
   "cell_type": "markdown",
   "id": "92e3bdf4",
   "metadata": {},
   "source": [
    "# Dimensionen von Feature Maps\n",
    "In diesem Notebook wird die Auswirkung verschiedener Parameter der Konvolution und des Poolings auf eine Feature Map erklärt und dargestellt.\n",
    "\n",
    "Bei der standardmäßigen Konvolution ist der Output kleiner als der Input. Folgendes Beispiel stellt das dar. Das blaue Rechteck ist der Kernel, der über das Bild verschoben wird (die Eckpositionen werden gezeigt). Der mittlere Pixel des Kernels ist der Pixel, an dessen Stelle der neue Wert geschrieben wird. Werden alle Positionen des Kernels vereint, ergibt sich das rote Rechteck mit den Dimensionen des Outputs."
   ]
  },
  {
   "cell_type": "code",
   "execution_count": 55,
   "id": "a5c8aabd",
   "metadata": {},
   "outputs": [
    {
     "data": {
      "image/png": "[encoded data removed]",
      "text/plain": [
       "<Figure size 432x288 with 1 Axes>"
      ]
     },
     "metadata": {
      "needs_background": "light"
     },
     "output_type": "display_data"
    }
   ],
   "source": [
    "imSize = 12\n",
    "k = 3\n",
    "randImage = np.random.rand(imSize, imSize)\n",
    "fig = plt.figure()\n",
    "ax = fig.add_subplot(1,1,1)\n",
    "ax.axis(\"off\")\n",
    "ax.imshow(randImage, cmap=\"Greys\")\n",
    "ax.add_patch(Rectangle((-.5,-.5),k,k, fill=False, lw=3, color=\"b\"))\n",
    "ax.add_patch(Rectangle((-.5,imSize-k-.5),k,k, fill=False, lw=3, color=\"b\"))\n",
    "ax.add_patch(Rectangle((imSize-k-.5,imSize-k-.5),k,k, fill=False, lw=3, color=\"b\"))\n",
    "ax.add_patch(Rectangle((imSize-k-.5,-.5),k,k, fill=False, lw=3, color=\"b\"))\n",
    "ax.add_patch(Rectangle((int(k/2)-.5,int(k/2)-.5),imSize-int(k/2)*2,imSize-int(k/2)*2, fill=True, alpha=.5, lw=3, color=\"r\"))\n",
    "plt.show()"
   ]
  },
  {
   "cell_type": "markdown",
   "id": "515fd559",
   "metadata": {},
   "source": [
    "### Padding\n",
    "Um die Dimensionen des Originalbilds beizubehalten, wird Padding angewandt. Im folgenden Beispiel werden die äußersten Pixel kopiert, bis nach der Konvolution die Dimensionen der Feature Map gleich denen vor der Konvolution sind.<br>\n",
    "Zusätzlich zu den schon zuvor eingezeichneten Rechtecken wird ein grüner Rand um die Input-Feature-Map gelegt. Der grüne Rahmen und das rote Rechteck haben exakt die gleiche Größe => die Output-Feature-Map hat die gleiche Dimensionen wie der Input des Layers"
   ]
  },
  {
   "cell_type": "code",
   "execution_count": 81,
   "id": "d73d39c8",
   "metadata": {},
   "outputs": [
    {
     "data": {
      "image/png": "[encoded data removed]",
      "text/plain": [
       "<Figure size 432x288 with 1 Axes>"
      ]
     },
     "metadata": {
      "needs_background": "light"
     },
     "output_type": "display_data"
    }
   ],
   "source": [
    "imSize = 16\n",
    "k = 5\n",
    "randImage = np.random.rand(imSize, imSize)\n",
    "padding = int(k/2)\n",
    "imSize = imSize + padding\n",
    "padded = np.zeros((imSize+padding, imSize+padding))\n",
    "padded[padding:imSize,padding:imSize] = randImage\n",
    "for x in range(padding):\n",
    "    padded[x, :] = padded[padding]\n",
    "    padded[imSize+x, :] = padded[imSize-1]\n",
    "    padded[:, x] = padded[:,padding]\n",
    "    padded[:, imSize+x] = padded[:,imSize-1]\n",
    "\n",
    "fig = plt.figure()\n",
    "ax = fig.add_subplot(1,1,1)\n",
    "ax.axis(\"off\")\n",
    "ax.imshow(padded, cmap=\"Greys\")\n",
    "ax.add_patch(Rectangle((-.5,-.5),k,k, fill=False, lw=3, color=\"b\"))\n",
    "ax.add_patch(Rectangle((-.5,imSize+padding-k-.5),k,k, fill=False, lw=3, color=\"b\"))\n",
    "ax.add_patch(Rectangle((imSize+padding-k-.5,imSize+padding-k-.5),k,k, fill=False, lw=3, color=\"b\"))\n",
    "ax.add_patch(Rectangle((imSize+padding-k-.5,-.5),k,k, fill=False, lw=3, color=\"b\"))\n",
    "ax.add_patch(Rectangle((int(k/2)-.5,int(k/2)-.5),\n",
    "                       imSize+padding-int(k/2)*2,\n",
    "                       imSize+padding-int(k/2)*2,\n",
    "                       fill=True, alpha=.5, lw=3, color=\"r\"))\n",
    "ax.add_patch(Rectangle((int(k/2)-.5,int(k/2)-.5),\n",
    "                       imSize+padding-int(k/2)*2,\n",
    "                       imSize+padding-int(k/2)*2,\n",
    "                       fill=False, lw=3, color=\"g\"))\n",
    "plt.show()"
   ]
  },
  {
   "cell_type": "markdown",
   "id": "07a0380b",
   "metadata": {},
   "source": [
    "### Schrittweite (Stride)\n",
    "Die Schrittweite (englisch stride) beschreibt, um wie viele Pixel der Kernel pro Konvolutionsschritt verschoben wird. Bei der Konvolution ist ein stride von $1$ am häufigsten anzutreffen, während beim Pooling die Schrittweite gleich der Kernelgröße genommen wird und es so keine Überlappung zwischen den Regionen gibt, die jeweils einen Pixel berechnen.<br>\n",
    "Folgendes Beispiel zeigt den Einfluss der Schrittweite auf die Outputdimensionen. Es ist direkt zu erkennen, dass die Outputpixel eine deutlich geringere Anzahl haben als die Inputpixel."
   ]
  },
  {
   "cell_type": "code",
   "execution_count": 112,
   "id": "3706016c",
   "metadata": {},
   "outputs": [
    {
     "data": {
      "image/png": "[encoded data removed]",
      "text/plain": [
       "<Figure size 432x288 with 1 Axes>"
      ]
     },
     "metadata": {
      "needs_background": "light"
     },
     "output_type": "display_data"
    }
   ],
   "source": [
    "imSize = 12\n",
    "k = 3\n",
    "stride = 3\n",
    "randImage = np.random.rand(imSize, imSize)\n",
    "fig = plt.figure()\n",
    "ax = fig.add_subplot(1,1,1)\n",
    "ax.axis(\"off\")\n",
    "ax.imshow(randImage, cmap=\"Greys\")\n",
    "lastPos = 0\n",
    "for i in range(0, imSize-k+1, stride):\n",
    "    lastPos = max(i, lastPos)\n",
    "    for j in range(0, imSize-k+1, stride):\n",
    "        ax.add_patch(Rectangle((i+int(k/2)-.5,j+int(k/2)-.5),1,1, fill=True, alpha=.5, lw=3, color=\"r\"))\n",
    "\n",
    "lastPos = lastPos - .5\n",
    "ax.add_patch(Rectangle((-.5,-.5),k,k, fill=False, lw=3, color=\"b\"))\n",
    "ax.add_patch(Rectangle((-.5,lastPos),k,k, fill=False, lw=3, color=\"b\"))\n",
    "ax.add_patch(Rectangle((lastPos,lastPos),k,k, fill=False, lw=3, color=\"b\"))\n",
    "ax.add_patch(Rectangle((lastPos,-.5),k,k, fill=False, lw=3, color=\"b\"))\n",
    "plt.show()"
   ]
  }
 ],
 "metadata": {
  "kernelspec": {
   "display_name": "Python 3",
   "language": "python",
   "name": "python3"
  },
  "language_info": {
   "codemirror_mode": {
    "name": "ipython",
    "version": 3
   },
   "file_extension": ".py",
   "mimetype": "text/x-python",
   "name": "python",
   "nbconvert_exporter": "python",
   "pygments_lexer": "ipython3",
   "version": "3.7.10"
  }
 },
 "nbformat": 4,
 "nbformat_minor": 5
}
