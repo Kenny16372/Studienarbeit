{
 "cells": [
  {
   "cell_type": "markdown",
   "metadata": {},
   "source": [
    "# Initialisierung der Gewichte\n",
    "Dieses Notebook bespricht zwei verschiedene Möglichkeiten, wie die Gewichte eines Netzwerks initialisiert werden können. Die erste ist HeNormal, die zweite HeUniform. Das He steht dabei für den Autor des Papers, in dem diese Initialisierungen erarbeitet wurden. Für weitere Infos zu diesen Themen ist <a href=\"https://www.cv-foundation.org/openaccess/content_iccv_2015/html/He_Delving_Deep_into_ICCV_2015_paper.html\">hier</a> das Original-Paper.\n",
    "## HeNormal\n",
    "Bei der Initialisierung mit HeNormal werden die Werte aus einer Normalverteilung mit mean $0$ und Standardabweichung $\\sqrt{\\frac{2}{fan_{in}}}$ mit $fan_{in}$ als Anzahl der Gewichte gezogen.\n",
    "## HeUniform\n",
    "Bei HeUniform werden die Werte für die Gewichte aus dem Intervall $[-limit;limit]$ mit $limit=\\sqrt{\\frac{6}{fan_{in}}}$ und $fan_{in}$ wieder als Anzahl der Gewichte.\n",
    "## Welche Initialisierung sollte gewählt werden?\n",
    "Da der einzige Unterschied zwischen den verschiedenen Initialisierungen ist der erhöhte Lernaufwand bei schlecht gewählten Gewichten. Da die Zielgewichte aber kaum abgeschätzt werden können, ist nicht klar, welche Gewichte einen guten Startwert darstellen. Das einzige Argument, das eine Methode der anderen vorzieht, ist, dass HeNormal in den letzten Jahren HeUniform vorgezogen wurde."
   ]
  }
 ],
 "metadata": {
  "kernelspec": {
   "display_name": "Python 3",
   "language": "python",
   "name": "python3"
  },
  "language_info": {
   "codemirror_mode": {
    "name": "ipython",
    "version": 3
   },
   "file_extension": ".py",
   "mimetype": "text/x-python",
   "name": "python",
   "nbconvert_exporter": "python",
   "pygments_lexer": "ipython3",
   "version": "3.7.8"
  }
 },
 "nbformat": 4,
 "nbformat_minor": 4
}
