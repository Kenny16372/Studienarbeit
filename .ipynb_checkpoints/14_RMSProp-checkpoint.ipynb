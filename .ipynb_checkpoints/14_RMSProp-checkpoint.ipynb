{
 "cells": [
  {
   "cell_type": "markdown",
   "metadata": {},
   "source": [
    "# RMSProp\n",
    "Der Name RMSProp steht für Root Mean Square Propagation. Bei diesem Optimierungsalgorithmus wird wie bei den Vorherigen auch die Lernrate pro Dimension angepasst. \n",
    "## Berechnung\n",
    "Es wird wie bei Adagrad das Quadrat des Gradienten genommen und mit dem Wert des letzten Updates verrechnet. Hierbei werden der aktuelle und der vorherige Wert mit einem Faktor $1-\\gamma$ bzw. $\\gamma$ multipliziert. Als Formel: $$v(w,t)=\\gamma v(w, t-1)+(1-\\gamma)(\\nabla Q_i(w))^2$$\n",
    "Zu den auftretenden Symbolen: $\\gamma$ ist die forgetting rate, die den Einfluss der vergangenen Gradienten beschreibt. $\\nabla Q_i(w)$ ist der Gradient der Gewichte $w$ in der $i$-ten Dimension. Mit $t$ ist die Zeit, bzw. das Update gemeint.<br>\n",
    "Die Lernrate wird durch diesen Wert $v(w,t)$ geteilt.\n",
    "## Vorteile\n",
    "- Sehr gute Ergebnisse in vielen Anwendungsgebieten\n",
    "- $\\gamma$ muss in der Praxis nicht vom Standardwert $0.99$ bzw. $0.9$, je nach Implementierung, geändert werden; eine Abweichung bringt nur geringe Verbesserungen\n",
    "\n",
    "## Quellen\n",
    "https://towardsdatascience.com/understanding-rmsprop-faster-neural-network-learning-62e116fcf29a"
   ]
  }
 ],
 "metadata": {
  "kernelspec": {
   "display_name": "Python 3",
   "language": "python",
   "name": "python3"
  },
  "language_info": {
   "codemirror_mode": {
    "name": "ipython",
    "version": 3
   },
   "file_extension": ".py",
   "mimetype": "text/x-python",
   "name": "python",
   "nbconvert_exporter": "python",
   "pygments_lexer": "ipython3",
   "version": "3.7.8"
  }
 },
 "nbformat": 4,
 "nbformat_minor": 4
}
