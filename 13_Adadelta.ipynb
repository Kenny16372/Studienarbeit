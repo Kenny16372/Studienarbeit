{
 "cells": [
  {
   "cell_type": "markdown",
   "metadata": {},
   "source": [
    "# Optimizer Adadelta\n",
    "Der Algorithmus Adadelta stellt eine Erweiterung zu Adagrad dar. Er befasst sich mit dem Problem, dass Adagrad oft bereits vor dem Minimum konvergiert. \n",
    "## Berechnung Adadelta\n",
    "In Adagrad wird die Lernrate in einer Dimension durch die Summe der Quadrate aller vorherigen Gradienten geteilt. Dadurch wird sie immer kleiner und der Algorithmus kommt - je nach Problem - zu früh zu einem Ergebnis, obwohl das Minimum noch nicht erreicht ist.<br>\n",
    "Das wird in Adadelta behoben, indem nicht mehr alle vorherigen Gradienten einberechnet werden, sondern nur ein gleitendes Fenster der letzten Gradienten in die Berechnung des Dividenten einfließt.\n",
    "## Vorteile\n",
    "- Entfernung des stetig kleiner werdenden Faktors\n",
    "\n",
    "## Nachteile\n",
    "- Trotzdem wird der Parameter in manchen Implementierungen benötigt (Beispiel Keras: Parameter ist optional)\n",
    "\n",
    "## Quellen\n",
    "https://keras.io/api/optimizers/adadelta/"
   ]
  }
 ],
 "metadata": {
  "kernelspec": {
   "display_name": "Python 3",
   "language": "python",
   "name": "python3"
  },
  "language_info": {
   "codemirror_mode": {
    "name": "ipython",
    "version": 3
   },
   "file_extension": ".py",
   "mimetype": "text/x-python",
   "name": "python",
   "nbconvert_exporter": "python",
   "pygments_lexer": "ipython3",
   "version": "3.7.8"
  }
 },
 "nbformat": 4,
 "nbformat_minor": 4
}
